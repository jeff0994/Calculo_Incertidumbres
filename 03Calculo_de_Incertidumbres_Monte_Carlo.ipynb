{
 "cells": [
  {
   "cell_type": "markdown",
   "metadata": {},
   "source": [
    "# Unviversidad de Costa Rica.\n",
    "## Facultad de Ciencias\n",
    "## Escuela de Física\n",
    "\n",
    "### Yefry López Núñez"
   ]
  },
  {
   "cell_type": "markdown",
   "metadata": {},
   "source": [
    "### Plantilla para Cálculo de Incertidumbres usando Monte Carlo."
   ]
  },
  {
   "cell_type": "code",
   "execution_count": 6,
   "metadata": {
    "scrolled": true
   },
   "outputs": [
    {
     "name": "stdout",
     "output_type": "stream",
     "text": [
      "Collecting uncertainties\n",
      "  Downloading https://files.pythonhosted.org/packages/2a/c2/babbe5b16141859dd799ed31c03987100a7b6d0ca7c0ed4429c96ce60fdf/uncertainties-3.1.2.tar.gz (232kB)\n",
      "Building wheels for collected packages: uncertainties\n",
      "  Building wheel for uncertainties (setup.py): started\n",
      "  Building wheel for uncertainties (setup.py): finished with status 'done'\n",
      "  Created wheel for uncertainties: filename=uncertainties-3.1.2-cp37-none-any.whl size=96464 sha256=60c0fe91cda58af799b416faa042081ebc187a0b87554e6dde6c2d46d2d05f66\n",
      "  Stored in directory: C:\\Users\\DELL USER\\AppData\\Local\\pip\\Cache\\wheels\\d9\\d3\\0e\\5b0b743a8abd50373705427438456da5dc2621891138d7a618\n",
      "Successfully built uncertainties\n",
      "Installing collected packages: uncertainties\n",
      "Successfully installed uncertainties-3.1.2\n",
      "Collecting mcerp\n",
      "  Downloading https://files.pythonhosted.org/packages/4a/76/49216e05c40de0fe0a521bbf3f2370254c16e3005be563d9cd29ef6c7503/mcerp-0.12.tar.gz (290kB)\n",
      "Requirement already satisfied: numpy in c:\\users\\dell user\\anaconda3\\lib\\site-packages (from mcerp) (1.16.5)\n",
      "Requirement already satisfied: scipy in c:\\users\\dell user\\anaconda3\\lib\\site-packages (from mcerp) (1.3.1)\n",
      "Requirement already satisfied: matplotlib in c:\\users\\dell user\\anaconda3\\lib\\site-packages (from mcerp) (3.1.1)\n",
      "Requirement already satisfied: cycler>=0.10 in c:\\users\\dell user\\anaconda3\\lib\\site-packages (from matplotlib->mcerp) (0.10.0)\n",
      "Requirement already satisfied: kiwisolver>=1.0.1 in c:\\users\\dell user\\anaconda3\\lib\\site-packages (from matplotlib->mcerp) (1.1.0)\n",
      "Requirement already satisfied: pyparsing!=2.0.4,!=2.1.2,!=2.1.6,>=2.0.1 in c:\\users\\dell user\\anaconda3\\lib\\site-packages (from matplotlib->mcerp) (2.4.2)\n",
      "Requirement already satisfied: python-dateutil>=2.1 in c:\\users\\dell user\\anaconda3\\lib\\site-packages (from matplotlib->mcerp) (2.8.0)\n",
      "Requirement already satisfied: six in c:\\users\\dell user\\anaconda3\\lib\\site-packages (from cycler>=0.10->matplotlib->mcerp) (1.12.0)\n",
      "Requirement already satisfied: setuptools in c:\\users\\dell user\\anaconda3\\lib\\site-packages (from kiwisolver>=1.0.1->matplotlib->mcerp) (41.4.0)\n",
      "Building wheels for collected packages: mcerp\n",
      "  Building wheel for mcerp (setup.py): started\n",
      "  Building wheel for mcerp (setup.py): finished with status 'done'\n",
      "  Created wheel for mcerp: filename=mcerp-0.12-cp37-none-any.whl size=22818 sha256=be149087d7427ccb184ac65fa2bb74a37efdeb1c4c8d753489344592264b8631\n",
      "  Stored in directory: C:\\Users\\DELL USER\\AppData\\Local\\pip\\Cache\\wheels\\38\\0d\\16\\e880919316949ca1e046bbefd1fe18a1e6e9dce9c82bbd0145\n",
      "Successfully built mcerp\n",
      "Installing collected packages: mcerp\n",
      "Successfully installed mcerp-0.12\n"
     ]
    }
   ],
   "source": [
    "!pip install uncertainties #Paquete para Cálculo de Incertidumbres por propagación de Incertidumbres\n",
    "!pip install mcerp #Paquete para Cálculo de Incertidumbres usando Monte Carlo"
   ]
  },
  {
   "cell_type": "code",
   "execution_count": 295,
   "metadata": {},
   "outputs": [],
   "source": [
    "#Importación de Paquetes Básicos\n",
    "import numpy as np #Para manejar arrays\n",
    "import matplotlib.pyplot as plt #para graficar\n",
    "import math   #Módulo básico de matemática\n"
   ]
  },
  {
   "cell_type": "code",
   "execution_count": 4,
   "metadata": {},
   "outputs": [],
   "source": [
    "#Importación de Paquete de Propagación Incertidumbre\n",
    "from uncertainties import ufloat\n",
    "from uncertainties.umath import *"
   ]
  },
  {
   "cell_type": "markdown",
   "metadata": {},
   "source": [
    "#### Caso I. Cálculo de la incertidumbre Eficiencia de pila de combustible. \n",
    "##### Tomado de   W.  K.  Chan,Theory  and  Applications  of  Monte  CarloSimulations(Intechopen, 2013)"
   ]
  },
  {
   "cell_type": "markdown",
   "metadata": {},
   "source": [
    "Las celdas de combustible son dispositivos electroquímicos que producen energía eléctrica utilizando gas hidrógeno como combustible. \n",
    "La producción de energía es una consecuencia de la reacción química de un protón con gas oxígeno que produce agua como salida. \n",
    "También existe la generación de calor como un subproducto que podría usarse en procesos de energía de cogeneración que mejoren la eficiencia energética general."
   ]
  },
  {
   "cell_type": "markdown",
   "metadata": {},
   "source": [
    "Uno de los parámetros más importantes para ser controlado y medido en una celda de combustible es su eficiencia energética. Para hacerlo, es necesario conocer tanto la energía producida por la célula como la energía generada por la reacción química. \n",
    "La eficiencia termodinámica de una pila de combustible puede calcularse mediante \n",
    "\n",
    "$$\\eta = \\frac{\\Delta G}{\\Delta H}$$\n",
    "\n",
    "La eficiencia real se encuetra dada por\n",
    "\n",
    "$$\\eta_{R} = \\frac{\\Delta G}{\\Delta H}*\\frac{E_{R}}{E_{I}}$$\n",
    "\n",
    "Donde $\\Delta$ G es la energía libre de Gibbs, $\\Delta$ H la entalpía, $E_{R}$ el voltaje real aplicado y $E_{I}$ el voltaje ideal$ "
   ]
  },
  {
   "cell_type": "markdown",
   "metadata": {},
   "source": [
    "Suponga que en el laboratorio se midieron las cantidades físicas mencionadas anteriormenre.\n",
    "\n",
    "* $\\Delta$ G = 237.1 kJ/mol con una incertidumbre de 0.1 kJ/mol\n",
    "* $\\Delta$ H = 285.8 kJ/mol con una incertidumbre de 0.1 kJ/mol\n",
    "*  Voltaje ideal de 1.229 V obtenido a partir de la Ecuación de Nerts. Suponga que se tiene una incertidumbre de $\\pm 0.001$\n",
    "* Voltaje real de  0.732 $\\pm 0.001$ \n",
    "\n",
    "\n",
    "Suponga que no hay correlación.\n",
    "Cálcule la incertidumbre de la eficiencia."
   ]
  },
  {
   "cell_type": "markdown",
   "metadata": {},
   "source": [
    "A continuación un diagrama causa-efecto "
   ]
  },
  {
   "attachments": {
    "image2.png": {
     "image/png": "[encoded data removed]"
    }
   },
   "cell_type": "markdown",
   "metadata": {},
   "source": [
    "![image2.png](attachment:image2.png)"
   ]
  },
  {
   "cell_type": "markdown",
   "metadata": {},
   "source": [
    "##### Simulación Vía Monte Carlo"
   ]
  },
  {
   "cell_type": "markdown",
   "metadata": {},
   "source": [
    "#### Algoritmo"
   ]
  },
  {
   "cell_type": "markdown",
   "metadata": {},
   "source": [
    "###### Paso 1. Definda el mensurando y las variables de entrada.\n",
    "\n",
    "Para este caso el mensurando es la eficiencia de la celda $\\eta_{R}$\n",
    "\n",
    "Las variables de entrada (mediciones) están dadas por\n",
    "\n",
    "* $\\Delta$ G es la energía libre de Gibbs,\n",
    "* $\\Delta$ H la entalpía, \n",
    "* $E_{R}$ el voltaje real aplicado y \n",
    "* $E_{I}$ el voltaje ideal\n"
   ]
  },
  {
   "cell_type": "markdown",
   "metadata": {},
   "source": [
    "###### Paso 2. Definición del Funcional.\n",
    "\n",
    "$$\\eta_{R} = \\frac{\\Delta G}{\\Delta H}*\\frac{E_{R}}{E_{I}}$$"
   ]
  },
  {
   "cell_type": "markdown",
   "metadata": {},
   "source": [
    "###### Paso 3. Estimación de las distrbuciones de densidad de probabilidad de las variables de entrada.\n",
    "\n",
    "Nótese que la información respecto a las incertidumbres para las 5 variables es bastante pobre o provienden de mediciones de intrumentos. Por tanto asuma que se comportan como una distribución rectangular."
   ]
  },
  {
   "cell_type": "markdown",
   "metadata": {},
   "source": [
    "###### Ejemplo  Energía de Gibbs\n",
    "Valor Máximo = 237.1 + 0.1"
   ]
  },
  {
   "cell_type": "code",
   "execution_count": 326,
   "metadata": {},
   "outputs": [
    {
     "data": {
      "text/plain": [
       "237.2"
      ]
     },
     "execution_count": 326,
     "metadata": {},
     "output_type": "execute_result"
    }
   ],
   "source": [
    "237.1+0.1"
   ]
  },
  {
   "cell_type": "markdown",
   "metadata": {},
   "source": [
    "Valor Mínimo = 237.1 - 0.1"
   ]
  },
  {
   "cell_type": "code",
   "execution_count": 327,
   "metadata": {},
   "outputs": [
    {
     "data": {
      "text/plain": [
       "237.0"
      ]
     },
     "execution_count": 327,
     "metadata": {},
     "output_type": "execute_result"
    }
   ],
   "source": [
    "237.1 - 0.1"
   ]
  },
  {
   "cell_type": "markdown",
   "metadata": {},
   "source": [
    "|         Entrada         | Type |   PDF   |            PDF parametros            |\n",
    "|:----------------------------:|:----:|:-------:|:------------------------------------:|\n",
    "|   Energía Libre (ΔG)   |   B  | Uniforme | Min: 237.0 kJ/mol; Max: 237.2 kJ/mol |\n",
    "| Enthalpía (ΔHΔH) |   B  | Uniforme | Min: 285.7 kJ/mol; Max: 285.9 kJ/mol |\n",
    "|     Voltaje Ideal      |   B  | Uniforme |      Min 1.228 ; Max 1.230      |\n",
    "|      Voltaje Real      |   A  | Gaussiana |     Media: 0.732 V; std = 0.001      |"
   ]
  },
  {
   "cell_type": "markdown",
   "metadata": {},
   "source": [
    "Número de Intentos recomendados para 95% de confianza\n",
    "\n",
    "$$M = \\frac{10^{4}}{1-p} $$\n",
    "\n",
    "$$M = 2x10^{5}$$"
   ]
  },
  {
   "cell_type": "markdown",
   "metadata": {},
   "source": [
    "###### Paso 4. Simulación"
   ]
  },
  {
   "cell_type": "code",
   "execution_count": 328,
   "metadata": {},
   "outputs": [
    {
     "name": "stdout",
     "output_type": "stream",
     "text": [
      "0.49411555703345944\n"
     ]
    }
   ],
   "source": [
    "delta_G = 237.1\n",
    "delta_H = 285.8\n",
    "E_I = 1.229\n",
    "E_R = 0.732\n",
    "\n",
    "Eficiencia = (delta_G/delta_H)*(E_R/E_I)\n",
    "print(Eficiencia)"
   ]
  },
  {
   "cell_type": "markdown",
   "metadata": {},
   "source": [
    "###### Simulación para delta G"
   ]
  },
  {
   "cell_type": "code",
   "execution_count": 5,
   "metadata": {},
   "outputs": [],
   "source": [
    "deltaG = np.random.uniform(237.0,237.2,2*10**5)"
   ]
  },
  {
   "cell_type": "markdown",
   "metadata": {},
   "source": [
    "###### Simulación para delta H"
   ]
  },
  {
   "cell_type": "code",
   "execution_count": 6,
   "metadata": {},
   "outputs": [],
   "source": [
    "deltaH = np.random.uniform(285.7,285.9,2*10**5)"
   ]
  },
  {
   "cell_type": "markdown",
   "metadata": {},
   "source": [
    "###### Simulación para Voltaje Real"
   ]
  },
  {
   "cell_type": "code",
   "execution_count": 7,
   "metadata": {},
   "outputs": [],
   "source": [
    "VR = np.random.uniform(0.7315,0.7325,2*10**5)"
   ]
  },
  {
   "cell_type": "markdown",
   "metadata": {},
   "source": [
    "###### Simulación para Voltaje Ideal"
   ]
  },
  {
   "cell_type": "code",
   "execution_count": 8,
   "metadata": {},
   "outputs": [],
   "source": [
    "VI = np.random.uniform( 1.228 ,1.230,2*10**5)"
   ]
  },
  {
   "cell_type": "code",
   "execution_count": 9,
   "metadata": {},
   "outputs": [
    {
     "name": "stdout",
     "output_type": "stream",
     "text": [
      "[237.09234176 237.01236468 237.01264645 ... 237.06997956 237.05995168\n",
      " 237.15513281]\n"
     ]
    }
   ],
   "source": [
    "print(deltaG)"
   ]
  },
  {
   "cell_type": "code",
   "execution_count": 10,
   "metadata": {},
   "outputs": [],
   "source": [
    "Eficiencia = (deltaG/deltaH)*(VR/VI)"
   ]
  },
  {
   "cell_type": "code",
   "execution_count": 11,
   "metadata": {},
   "outputs": [
    {
     "name": "stderr",
     "output_type": "stream",
     "text": [
      "C:\\Users\\DELL USER\\Anaconda3\\lib\\site-packages\\ipykernel_launcher.py:1: MatplotlibDeprecationWarning: \n",
      "The 'normed' kwarg was deprecated in Matplotlib 2.1 and will be removed in 3.1. Use 'density' instead.\n",
      "  \"\"\"Entry point for launching an IPython kernel.\n"
     ]
    },
    {
     "data": {
      "image/png": "[encoded data removed]",
      "text/plain": [
       "<Figure size 432x288 with 1 Axes>"
      ]
     },
     "metadata": {
      "needs_background": "light"
     },
     "output_type": "display_data"
    }
   ],
   "source": [
    "count, bins, ignored = plt.hist(Eficiencia, 100, normed=True)\n",
    "plt.ylabel('Frecuencia')\n",
    "plt.xlabel('Eficiencia')\n",
    "plt.plot(bins, np.ones_like(bins), linewidth=2, color='r')\n",
    "plt.show()"
   ]
  },
  {
   "cell_type": "markdown",
   "metadata": {},
   "source": [
    "###### Paso 5. Resultados"
   ]
  },
  {
   "cell_type": "code",
   "execution_count": 12,
   "metadata": {},
   "outputs": [
    {
     "name": "stdout",
     "output_type": "stream",
     "text": [
      "0.49411631229532366\n"
     ]
    }
   ],
   "source": [
    "\n",
    "Media_eficiencia = np.mean(Eficiencia)\n",
    "print(Media_eficiencia)"
   ]
  },
  {
   "cell_type": "code",
   "execution_count": 13,
   "metadata": {},
   "outputs": [
    {
     "name": "stdout",
     "output_type": "stream",
     "text": [
      "0.0003414283891754875\n"
     ]
    }
   ],
   "source": [
    "Desviación_standar = np.std(Eficiencia)\n",
    "print(Desviación_standar)"
   ]
  },
  {
   "cell_type": "code",
   "execution_count": 14,
   "metadata": {},
   "outputs": [
    {
     "name": "stdout",
     "output_type": "stream",
     "text": [
      "0.4930345463648666\n",
      "0.49520626252240457\n"
     ]
    }
   ],
   "source": [
    "minimo = np.min(Eficiencia)\n",
    "print(minimo)\n",
    "\n",
    "maximo = np.max(Eficiencia)\n",
    "print(maximo)"
   ]
  },
  {
   "cell_type": "markdown",
   "metadata": {},
   "source": [
    "|       Parámetro       |  Valor  |\n",
    "|:---------------------:|:-------:|\n",
    "|          Media       | 0.49412 |\n",
    "|   Desviación Estándar  | 0.00044 |\n",
    "|  Límite izquierdo para 95% | 0.49307 |\n",
    "| Límite Derecho para 95% | 0.49518 |"
   ]
  },
  {
   "cell_type": "markdown",
   "metadata": {},
   "source": [
    "###### Simulacion programada Monte Carlo (Resumida)"
   ]
  },
  {
   "cell_type": "code",
   "execution_count": 263,
   "metadata": {},
   "outputs": [],
   "source": [
    "trials = 2*10**5\n",
    "lista = []\n",
    "for i in range(trials):\n",
    "    deltaG = np.random.uniform(237.0,237.2)\n",
    "    deltaH = np.random.uniform(285.7,285.9)\n",
    "    VR = np.random.normal(0.732,0.001/2)\n",
    "    VI = np.random.uniform( 1.228 ,1.230)\n",
    "    Eficiencia = (deltaG/deltaH)*(VR/VI)\n",
    "    lista.append(Eficiencia)\n",
    "    \n",
    "Eficiencia = np.array(lista)"
   ]
  },
  {
   "cell_type": "code",
   "execution_count": 264,
   "metadata": {},
   "outputs": [],
   "source": [
    "Media = np.mean(Eficiencia)\n",
    "Desviacion_sdt = np.std(Eficiencia)\n",
    "min_value= np.min(Eficiencia)\n",
    "max_value= np.max(Eficiencia)"
   ]
  },
  {
   "cell_type": "code",
   "execution_count": 265,
   "metadata": {},
   "outputs": [
    {
     "name": "stdout",
     "output_type": "stream",
     "text": [
      "Valor de la Eficiencia 0.4941147372710199\n",
      "Valor de la Desviación estándar 0.0004394262986774996\n",
      "Valor mínimo 0.49222100634827315\n",
      "Valor mínimo 0.49598261754323386\n"
     ]
    }
   ],
   "source": [
    "print(\"Valor de la Eficiencia\",Media)\n",
    "print(\"Valor de la Desviación estándar\",Desviacion_sdt)\n",
    "print(\"Valor mínimo\",min_value)\n",
    "print(\"Valor mínimo\",max_value)"
   ]
  },
  {
   "cell_type": "markdown",
   "metadata": {},
   "source": []
  },
  {
   "cell_type": "markdown",
   "metadata": {},
   "source": [
    "#### Comparativa con Propagación de Incertidumbres"
   ]
  },
  {
   "cell_type": "markdown",
   "metadata": {},
   "source": [
    "Paso 1. Cada incertidumbre se divide por raiz de 3 por ser rectangular"
   ]
  },
  {
   "cell_type": "code",
   "execution_count": 262,
   "metadata": {},
   "outputs": [],
   "source": [
    "u_H = 0.1/ math.sqrt(3)\n",
    "u_G =  0.1/ math.sqrt(3)\n",
    "u_VI = 0.001 / math.sqrt(3)\n",
    "u_VR = 0.001 / 2"
   ]
  },
  {
   "cell_type": "markdown",
   "metadata": {},
   "source": [
    "Paso 2. Simulacion"
   ]
  },
  {
   "cell_type": "code",
   "execution_count": 256,
   "metadata": {},
   "outputs": [
    {
     "name": "stdout",
     "output_type": "stream",
     "text": [
      "0.49411555703345944\n"
     ]
    }
   ],
   "source": [
    "delta_G = 237.1\n",
    "delta_H = 285.8\n",
    "E_I = 1.229\n",
    "E_R = 0.732\n",
    "\n",
    "Eficiencia = (delta_G/delta_H)*(E_R/E_I)\n",
    "print(Eficiencia)"
   ]
  },
  {
   "cell_type": "markdown",
   "metadata": {},
   "source": [
    "Paso 3. Incertidumbre\n",
    "\n",
    "\n",
    "Se utilizar ufloat(valor medido, incertidumbre).\n",
    "Cada variable se declara y posteriormente se realiza el cálculo.\n",
    "\n",
    "El paquete Uncertaintly realizar toda la propagación de incertidumbres y cálculo\n"
   ]
  },
  {
   "cell_type": "code",
   "execution_count": 333,
   "metadata": {},
   "outputs": [
    {
     "name": "stdout",
     "output_type": "stream",
     "text": [
      "0.4941+/-0.0004\n"
     ]
    }
   ],
   "source": [
    "!pip install uncertainties\n",
    "#Importación de Paquete de Propagación Incertidumbre\n",
    "from uncertainties import ufloat\n",
    "from uncertainties.umath import *\n",
    "\n",
    "u_H = 0.1/ math.sqrt(3) #Incertidumbre Energía Libre Gibbs\n",
    "u_G =  0.1/ math.sqrt(3) #Incertidumbre Entalpia\n",
    "u_VI = 0.001 / math.sqrt(3) #Incertidumbre Potencial Ideal\n",
    "u_VR = 0.001 / 2 #Incertidumbre Potencial Real\n",
    "\n",
    "Delta_G = ufloat(237.1,u_H)\n",
    "Delta_H = ufloat(285.8,u_G)\n",
    "E_I = ufloat(1.229,u_VI)\n",
    "E_R = ufloat(0.732,u_VR)\n",
    "\n",
    "Eficienciaf= (Delta_G/Delta_H)*(E_R/E_I)\n",
    "print(Eficienciaf)"
   ]
  },
  {
   "cell_type": "markdown",
   "metadata": {},
   "source": [
    "La incertidumbre según propagación de incertidumbres sería\n",
    "$$0.4941 \\pm 0.0004$$"
   ]
  },
  {
   "cell_type": "markdown",
   "metadata": {},
   "source": [
    "| Método | Resultado | Incertidumbre Estándar Expandida (95% de confianza) |\n",
    "|:------:|:---------:|:---------------------------------------------------:|\n",
    "|   GUM  |   0.4941  |                        0.0008                       |\n",
    "|   MC   |   0.4941  |                        0.0008                       |"
   ]
  },
  {
   "cell_type": "markdown",
   "metadata": {},
   "source": [
    "#### Caso II. Cálculo de la incertidumbre en la preparación de un patrón de Cadmio. \n",
    "##### Tomado de   W.  K.  Chan,Theory  and  Applications  of  Monte  CarloSimulations(Intechopen, 2013)\n",
    "##### Tomado de la Guía Eurachem "
   ]
  },
  {
   "cell_type": "markdown",
   "metadata": {},
   "source": [
    "Se desea preparar una solución estándar de cadmio para análisis de laboratorio.\n",
    "En el laboratorio se peso 0.10028 g de cadmio pureza  $99.99\\%$.\n",
    "(El fabricante de la balanza reporta una incertidumbre de 0.05 mg).\n",
    "La masa se transvasa cuantitaivamente a un balón aforado de 100 mL.\n",
    "\n",
    "Las mediciones se realizaron a 20 grados Celsius.\n",
    "\n",
    "Determina la concentración en mg/L de la disolución preparada y su incertidumbre. Ignore los efectos de diltación."
   ]
  },
  {
   "cell_type": "markdown",
   "metadata": {},
   "source": [
    "###### Paso 1. Definda el mensurando y las variables de entrada.\n",
    "\n",
    "Para este caso el mensurando es concentración de cadmio en el balón de 100 mL\n",
    "\n",
    "Las variables de entrada (mediciones) están dadas por\n",
    "\n",
    "* masa de cadmio\n",
    "* pureza\n",
    "* volumen"
   ]
  },
  {
   "cell_type": "markdown",
   "metadata": {},
   "source": [
    "###### Paso 2. Defina el funcional que relaciona variables de entrada con la variable de salida.\n",
    "\n",
    "Se sabe que\n",
    "\n",
    "$$Concentración (g/L) = \\frac{masa}{volumen} $$\n",
    "\n",
    "Pero la masa real del analito en el frasco debe considerar su pureza\n",
    "\n",
    "$$Concentración (mg/L) = \\frac{masa*pureza*1000}{volumen} $$"
   ]
  },
  {
   "cell_type": "markdown",
   "metadata": {},
   "source": [
    "##### Paso 3. Determinar la función de densidad de probabilidad para laa variables de entrada\n",
    "\n",
    "Para esto , se requiere.\n",
    "\n",
    "* Asignar que tipo de distribución siguen las variables de entrada.\n",
    "* Indicar las componentes individuales de cada variable de entrada.\n",
    "* Incertidumbre.\n",
    "* Cálcular los límites superior e inferior."
   ]
  },
  {
   "cell_type": "markdown",
   "metadata": {},
   "source": [
    "* Masa. El fabricante reporte incerdiumbre de $\\pm 0.05 mg$. Asuma que se comporta Gaussiana\n",
    "* Pureza. El frasco dice que la pureza es de 0.9999. La purezas se tratan como si fuesen de distribución uniforme\n",
    "* Volumen. Para todo frasco volumetríco, considerére que su incertidumbre viene dada por la contribución de la tolerencia del mismo (triangular), repetibilidad. Tolerancia 0.05 mL, repetibilidad 0.01 mL"
   ]
  },
  {
   "cell_type": "code",
   "execution_count": 310,
   "metadata": {},
   "outputs": [
    {
     "name": "stdout",
     "output_type": "stream",
     "text": [
      "1002.7+/-0.5\n"
     ]
    }
   ],
   "source": [
    "masaMC= 100.28\n",
    "Pureza = 0.9999\n",
    "Volumen = 0.1\n",
    "\n",
    "ConcetracionA = masa*Pureza/Volumen\n",
    "print(ConcetracionA)"
   ]
  },
  {
   "cell_type": "code",
   "execution_count": 311,
   "metadata": {},
   "outputs": [],
   "source": [
    "u_masaMC = 0.05\n",
    "u_pureza = 0.0001"
   ]
  },
  {
   "cell_type": "markdown",
   "metadata": {},
   "source": [
    "###### Masa "
   ]
  },
  {
   "cell_type": "code",
   "execution_count": 268,
   "metadata": {},
   "outputs": [],
   "source": [
    "masa = 100.28\n",
    "u_masa = 0.005"
   ]
  },
  {
   "cell_type": "markdown",
   "metadata": {},
   "source": [
    "###### Pureza"
   ]
  },
  {
   "cell_type": "code",
   "execution_count": 329,
   "metadata": {},
   "outputs": [
    {
     "name": "stdout",
     "output_type": "stream",
     "text": [
      "5.7735026918962585e-05\n"
     ]
    }
   ],
   "source": [
    "pureza_sup= Pureza + u_pureza\n",
    "pureza_inf = Pureza - u_pureza"
   ]
  },
  {
   "cell_type": "markdown",
   "metadata": {},
   "source": [
    "###### Volumen\n",
    "\n",
    "$$u_volumen = \\sqrt{\\left(\\frac{tolerancia}{\\sqrt{6}}\\right)^{2}+ \\left(repetibilidad\\right)^{2} }$$"
   ]
  },
  {
   "cell_type": "code",
   "execution_count": 206,
   "metadata": {},
   "outputs": [
    {
     "name": "stdout",
     "output_type": "stream",
     "text": [
      "0.022730302828309762\n"
     ]
    }
   ],
   "source": [
    "u_V = math.sqrt((0.05/math.sqrt(6))**2+(0.01)**2)\n",
    "print(u_V)"
   ]
  },
  {
   "cell_type": "code",
   "execution_count": 321,
   "metadata": {},
   "outputs": [],
   "source": [
    "trials = 2*10**5\n",
    "lista = []\n",
    "for i in range(trials):\n",
    "    m = np.random.normal(masaMC,u_masaMC)\n",
    "    P = np.random.uniform(pureza_inf,pureza_sup)\n",
    "    V = np.random.normal(100.00,0.02)\n",
    "    C = m*P/V\n",
    "    lista.append(C)\n",
    "\n",
    "Concentracion = np.array(lista)"
   ]
  },
  {
   "cell_type": "code",
   "execution_count": 322,
   "metadata": {},
   "outputs": [
    {
     "name": "stdout",
     "output_type": "stream",
     "text": [
      "Media de la concentracion: 1.0026997086341654\n",
      "Desviacion estandar: 0.0005423099899315699\n"
     ]
    }
   ],
   "source": [
    "print(\"Media de la concentracion:\", np.mean(Concentracion))\n",
    "print(\"Desviacion estandar:\",np.std(Concentracion))"
   ]
  },
  {
   "cell_type": "markdown",
   "metadata": {},
   "source": [
    "###### Propagación de Incertidumbres"
   ]
  },
  {
   "cell_type": "code",
   "execution_count": 330,
   "metadata": {},
   "outputs": [
    {
     "name": "stdout",
     "output_type": "stream",
     "text": [
      "0.022730302828309762\n"
     ]
    }
   ],
   "source": [
    "u_P = u_pureza/math.sqrt(3) #estandarización para propagación de incertidumbres\n",
    "u_V = math.sqrt((0.05/math.sqrt(6))**2+(0.01)**2) #incertidumbre estándar asociada a volumen\n",
    "print(u_V)"
   ]
  },
  {
   "cell_type": "code",
   "execution_count": 315,
   "metadata": {},
   "outputs": [],
   "source": [
    "masa = ufloat(100.28,0.05)\n",
    "Pureza = ufloat(0.9999,0.00006)\n",
    "Volumen = ufloat(100,0.02)"
   ]
  },
  {
   "cell_type": "code",
   "execution_count": 316,
   "metadata": {},
   "outputs": [
    {
     "name": "stdout",
     "output_type": "stream",
     "text": [
      "1.0027+/-0.0005\n"
     ]
    }
   ],
   "source": [
    "concentracion = masa*Pureza/Volumen\n",
    "print(concentracion)"
   ]
  },
  {
   "cell_type": "markdown",
   "metadata": {},
   "source": [
    "(1003 $\\pm$ 1) mg/L"
   ]
  },
  {
   "cell_type": "markdown",
   "metadata": {},
   "source": [
    "#### Caso III. Cálculo de Terstosterona libre Sartorius et al"
   ]
  },
  {
   "cell_type": "markdown",
   "metadata": {},
   "source": [
    "Modelo\n",
    "\n",
    "$$cFT=K_{1}*\\left(\\frac{T}{log_{10}S}\\right)-K_{2}*T^{2}$$"
   ]
  },
  {
   "cell_type": "markdown",
   "metadata": {},
   "source": [
    "Donde T representa la Testosterona sérica, S el suero SHBG y $K_{1}$ y $K_{2}$ representan dos parámetros empíricos.\n",
    "\n",
    "Considere que en el laboratorio se obtuvieron los siguientes resultados\n",
    "\n",
    "| Term in Sartorius cFT equation | Quantity | Standard uncertainty (u) |  Unit  |\n",
    "|:------------------------------:|:--------:|:------------------------:|:------:|\n",
    "|     Serum testosterone (T)     |   12.2   |        5% (= 0.61)       | nmol/L |\n",
    "|         Serum SHBG (S)         |   36.6   |        5% (= 1.83)       | nmol/L |\n",
    "|        $K_{1}$ 24.00314        | 24.00314 |     1% (= 0.2400314)     |        |\n",
    "|         $K_{2}$ 0.04599        |  0.04599 |     1% (= 0.0004599)     |        |"
   ]
  },
  {
   "cell_type": "markdown",
   "metadata": {},
   "source": [
    "Cálculando la incertidumbre"
   ]
  },
  {
   "cell_type": "code",
   "execution_count": 331,
   "metadata": {},
   "outputs": [
    {
     "data": {
      "image/png": "[encoded data removed]",
      "text/plain": [
       "<Figure size 432x288 with 1 Axes>"
      ]
     },
     "metadata": {
      "needs_background": "light"
     },
     "output_type": "display_data"
    }
   ],
   "source": [
    "Trials = 2*10**5\n",
    "lista = []\n",
    "for i in range(Trials):\n",
    "    T= np.random.normal(12.2,0.61)\n",
    "    S= np.random.normal(36.6,1.83)\n",
    "    K1= np.random.normal(25.00314,0.240314)\n",
    "    K2= np.random.normal(0.04599,0.0004599)\n",
    "    CFT = (K1*T/np.log10(S))-K2*np.power(T,2)\n",
    "    lista.append(CFT)\n",
    "CFT = np.array(lista)    \n",
    "\n",
    "count, bins, ignored = plt.hist(CFT, 100)\n",
    "plt.ylabel('Frecuencia')\n",
    "plt.xlabel('CFT')\n",
    "plt.plot(bins, np.ones_like(bins), linewidth=2, color='r')\n",
    "plt.show()"
   ]
  },
  {
   "cell_type": "code",
   "execution_count": 245,
   "metadata": {},
   "outputs": [
    {
     "name": "stdout",
     "output_type": "stream",
     "text": [
      "Media 188.3419410287357\n",
      "s 9.655734594221316\n"
     ]
    }
   ],
   "source": [
    "print(\"Media\",np.mean(CFT))\n",
    "print(\"s\",np.std(CFT))"
   ]
  },
  {
   "cell_type": "markdown",
   "metadata": {},
   "source": [
    "###### Propagación de Incertidumbres"
   ]
  },
  {
   "cell_type": "code",
   "execution_count": 249,
   "metadata": {},
   "outputs": [
    {
     "name": "stdout",
     "output_type": "stream",
     "text": [
      "188+/-10\n"
     ]
    }
   ],
   "source": [
    "T = ufloat(12.2,0.61)\n",
    "S = ufloat(36.6,1.83)\n",
    "K1 = ufloat(25.00314,0.240314)\n",
    "K2 = ufloat (0.04599,0.0004599)\n",
    "\n",
    "CFT = (K1*T/log10(S))-K2*(T**2)\n",
    "\n",
    "print(CFT)"
   ]
  },
  {
   "cell_type": "markdown",
   "metadata": {},
   "source": [
    "### Expresión General cálculo de incertidumbres por método sistemático de propagación"
   ]
  },
  {
   "cell_type": "markdown",
   "metadata": {},
   "source": [
    "$$u_{y}^{2} =\\sum_{i=1}^{N}  \\left(\\frac{\\partial f}{\\partial x_{i}}\\right) ^{2} u_{x_{1}}^{2}  +  2 \\sum_{i=1}^{N-1} \\sum_{j=i+1}^{N}  \\left(\\frac{\\partial f}{\\partial x_{i}}\\right) \\left(\\frac{\\partial f}{\\partial x_{j}}\\right)cov(x_{i},x_{j}) $$\n"
   ]
  }
 ],
 "metadata": {
  "kernelspec": {
   "display_name": "Python 3",
   "language": "python",
   "name": "python3"
  },
  "language_info": {
   "codemirror_mode": {
    "name": "ipython",
    "version": 3
   },
   "file_extension": ".py",
   "mimetype": "text/x-python",
   "name": "python",
   "nbconvert_exporter": "python",
   "pygments_lexer": "ipython3",
   "version": "3.7.4"
  }
 },
 "nbformat": 4,
 "nbformat_minor": 2
}
