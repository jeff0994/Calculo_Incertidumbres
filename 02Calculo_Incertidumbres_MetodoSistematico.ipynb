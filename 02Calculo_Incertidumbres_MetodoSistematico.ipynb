{
 "cells": [
  {
   "cell_type": "markdown",
   "metadata": {},
   "source": [
    "#                                                 Propagación de incertidumbres\n",
    "\n",
    "####                                                                              Laboratorio de Fisicoquímica  \n",
    "####                                                                              Escuela de Química\n",
    "####                                                                              Universidad de Costa Rica\n",
    "                                             \n",
    "\n"
   ]
  },
  {
   "cell_type": "markdown",
   "metadata": {},
   "source": [
    "Hola! A cotinuación vamos a aprender como realizar la propagación de errores usando Azure Notebooks: Python 3.6\n",
    "\n",
    "De los cursos de Análisis, aprendimos a realizar manejos rudimentarios de incertidumbres para fracciones simples \n",
    "(Concentraciones), sumas, restas y logaritmos.\n",
    "\n",
    "Ahora bien, que sucede cuando tenenemos expresiones mas complejas? Sabes calcular la incertidumbre de expresiones trigonométricas\n",
    "por ejemplo?\n",
    "\n",
    "En este tutorial vamos a aprender como...."
   ]
  },
  {
   "cell_type": "markdown",
   "metadata": {},
   "source": [
    "Primero, haremos uso de un Paquete optimizado para manejos de incertidumbres!\n",
    "Paquete **uncertainties**\n",
    "\n",
    "El paquete **uncertainties** es un programa gratuito y multiplataforma que maneja de manera transparente los cálculos \n",
    "con números con incertidumbres (como 3.14 ± 0.01). También puede producir las derivadas de cualquier expresión.\n",
    "\n",
    "El paquete de incertidumbres elimina el dolor y la complejidad de los cálculos de incertidumbre. \n",
    "¡La propagación de errores ya no debe temerse!\n",
    "\n",
    "Web del autor https://pythonhosted.org/uncertainties/"
   ]
  },
  {
   "cell_type": "markdown",
   "metadata": {},
   "source": [
    "1. Ejecuta la siguiente celda (Teclas Ctrl + Intro) o dale \"Run\" <br>\n",
    "Le estamos diciendo a Python... Hey descarga e instala ese paquete!\n"
   ]
  },
  {
   "cell_type": "code",
   "execution_count": 2,
   "metadata": {},
   "outputs": [
    {
     "name": "stdout",
     "output_type": "stream",
     "text": [
      "Requirement already satisfied: uncertainties in /home/nbuser/anaconda3_501/lib/python3.6/site-packages (3.0.2)\r\n"
     ]
    }
   ],
   "source": [
    "#Ejecuta la siguiente celda (Teclas Ctrl + Intro) o dale \"Run\"\n",
    "!pip install uncertainties"
   ]
  },
  {
   "cell_type": "markdown",
   "metadata": {},
   "source": [
    "2. Vamos a importar el programa a nuestra Notebook ( Esta hoja de cálculo).... <br>\n",
    "En términos senciilos, le estamos mostrando a Python como manejar la propagación de errores. <br>\n",
    "Ejecuta la siguiente celda (Teclas Ctrl + Intro) o dale \"Run\""
   ]
  },
  {
   "cell_type": "code",
   "execution_count": 2,
   "metadata": {},
   "outputs": [],
   "source": [
    "#Ejecuta la siguiente celda (Teclas Ctrl + Intro) o dale \"Run\"\n",
    "from uncertainties import ufloat"
   ]
  },
  {
   "cell_type": "code",
   "execution_count": 3,
   "metadata": {},
   "outputs": [],
   "source": [
    "#Ejecuta la siguiente celda (Teclas Ctrl + Intro) o dale \"Run\"\n",
    "from uncertainties.umath import *  # sin(), etc"
   ]
  },
  {
   "cell_type": "markdown",
   "metadata": {},
   "source": [
    "Gracias a **uncertainties** Python ya sabe manejar números con incertidumbre"
   ]
  },
  {
   "cell_type": "markdown",
   "metadata": {},
   "source": [
    "Antes de iniciar, vamos a importar otro paquete!\n",
    "El paquete matemático de Python te permitirá manejar funciones trigonométricas, logaritmos y demás!"
   ]
  },
  {
   "cell_type": "code",
   "execution_count": 4,
   "metadata": {},
   "outputs": [],
   "source": [
    "#Ejecuta la siguiente celda (Teclas Ctrl + Intro) o dale \"Run\"\n",
    "import math"
   ]
  },
  {
   "cell_type": "markdown",
   "metadata": {},
   "source": [
    "Listo ya Python sabe trabajar con expresiones trigonométricas, exponenciales y manejar incertidumbres!"
   ]
  },
  {
   "cell_type": "markdown",
   "metadata": {},
   "source": [
    "Por ejemplo, si se tiene que:\n",
    "\n",
    "a = 2.0 ± 0.1 <br>\n",
    "b = 4.00 ± 0.05 <br>\n",
    "c = 1.000 ± 0.003 <br>\n",
    "\n",
    "Podes decirle a Python que guarde esos números inexactos de la siguiente forma:<br>\n",
    "(Donde ufloat es el disminutivo de \"uncertain float\" número real con incertidumbre)<br>\n",
    "Dentro del paréntesis en __ufloat__, se coloca primero el número y luego su incertidumbre separada por una coma.\n",
    "\n",
    "\n"
   ]
  },
  {
   "cell_type": "code",
   "execution_count": 8,
   "metadata": {},
   "outputs": [],
   "source": [
    "#Ejecuta la siguiente celda (Teclas Ctrl + Intro) o dale \"Run\")\n",
    "\n",
    "a = ufloat(2.0000, 0.0001)  #  ufloat( medición , incertidumbre)\n",
    "b = ufloat(4.00050, 0.00005)\n",
    "c = ufloat(1.0000 , 0.0003)\n",
    "d = ufloat(5.0006 , 0.0006)"
   ]
  },
  {
   "cell_type": "markdown",
   "metadata": {},
   "source": [
    "¿Pasó  algo? <br>\n",
    "Aunque no hayas visto nada, Python ya tiene guardado las variables que asignaste! <br>\n",
    "Si queres ver el valor de la variable haz lo siguiente!"
   ]
  },
  {
   "cell_type": "code",
   "execution_count": 9,
   "metadata": {},
   "outputs": [
    {
     "data": {
      "text/plain": [
       "2.0+/-0.0001"
      ]
     },
     "execution_count": 9,
     "metadata": {},
     "output_type": "execute_result"
    }
   ],
   "source": [
    "# Escribe el nombre de la variable y ejecuta la celda\n",
    "a"
   ]
  },
  {
   "cell_type": "markdown",
   "metadata": {},
   "source": [
    "¿Viste? Python automáticamente guarda los valores asignados en la memoría <br>"
   ]
  },
  {
   "cell_type": "markdown",
   "metadata": {},
   "source": [
    "Si queres, tener los tres valores de las variables, podes usar la función __print()__ <br>\n",
    "Donde dentro del paréntesis irá la variable que querés \"imprimir\"\n",
    "\n",
    "print es una función que usarás bastante!\n",
    "\n",
    "\n"
   ]
  },
  {
   "cell_type": "code",
   "execution_count": 10,
   "metadata": {},
   "outputs": [
    {
     "name": "stdout",
     "output_type": "stream",
     "text": [
      "2.00000+/-0.00010\n",
      "4.00050+/-0.00005\n",
      "1.00000+/-0.00030\n",
      "5.0006+/-0.0006\n"
     ]
    }
   ],
   "source": [
    "#Ejecuta la siguiente celda (Teclas Ctrl + Intro) o dale \"Run\")\n",
    "print(a)\n",
    "print(b)\n",
    "print(c)\n",
    "print(d)"
   ]
  },
  {
   "cell_type": "markdown",
   "metadata": {},
   "source": [
    "Python sabe manejar la aritmética básica, podes efectuar operaciones sencillas <br>\n",
    "\n",
    "\"+\" para suma <br>\n",
    "\"-\" para resta <br>\n",
    "\"/\" para división <br>\n",
    "\"*\" para múltiplicación <br>\n",
    "\"**\" para exponentes <br>\n",
    "\n",
    "IMPORTANTE. En Python existen reglas de procedencia.<br>\n",
    "Python asignará prioridad para evaluar operaciones númericas\n",
    "\n",
    "+ Primer prioridad \"()\" y \"**\" (paréntesis y exponeciación) <br>\n",
    "+ Segunda prioridad \"*\" y \"/\" <br>\n",
    "+ Tercera prioridad \"+\" y \"-\" <br>"
   ]
  },
  {
   "cell_type": "code",
   "execution_count": 11,
   "metadata": {},
   "outputs": [
    {
     "data": {
      "text/plain": [
       "6.0005+/-0.001205346432566173"
      ]
     },
     "execution_count": 11,
     "metadata": {},
     "output_type": "execute_result"
    }
   ],
   "source": [
    "#Hagamos un ejemplo!\n",
    "#Ejecuta la siguiente celda (Teclas Ctrl + Intro) o dale \"Run\")\n",
    "\n",
    "d = a + (b/c)\n",
    "d"
   ]
  },
  {
   "cell_type": "markdown",
   "metadata": {},
   "source": [
    "Ves la maravilla? Automáticamente Python te efectua la operación y te da la incertidumbre! <br>\n",
    "\n",
    "Hagamos operaciones mas complicadas! Trabajemos con operaciones trigonométricas, logaritmos y exponeciales <br>\n",
    "A continuación algunos códigos útiles\n",
    "\n",
    "+ Para el seno usas: __sin()__       \n",
    "+ Para el coseno usas: __cos()__      \n",
    "+ Para la tangente usas: __tan()__   \n",
    "+ Para trabajar con PI: __math.PI__\n",
    "+ Para trabajar con exponente e : __exp()__\n",
    "+ Para trabajar con raices cuadradas: __sqrt()__\n",
    "+ Para trabajar con potencias fraccionarias Por ejemplo 2^(3/2): ___pow(base, exponente)___\n",
    "+ Para trabajar con logarimos en base 2:  __log2(x)__\n",
    "+ Para trabajar con logarimos en base 2:  __log10(x)__ ( Mejor conocido como \"log\" en la cálculadora científica.\n",
    "+ Logaritmo natural: __log(x,exp(1))__ Donde x el el valor al que le queres calcular el logaritmo natural\n",
    "\n",
    "\n",
    "\n",
    "Dentro del paréntesis irá el valor que deseas cálcular!"
   ]
  },
  {
   "cell_type": "markdown",
   "metadata": {},
   "source": [
    "Veamos varios ejemplos!\n",
    "\n",
    "1. Calcule el valor de la siguiente expresión. Recuerde que los valores a, b y c ya se encontruen guardados\n",
    "d= sen(2*b) / c"
   ]
  },
  {
   "cell_type": "code",
   "execution_count": 13,
   "metadata": {},
   "outputs": [
    {
     "name": "stdout",
     "output_type": "stream",
     "text": [
      "0.989+/-0.015\n"
     ]
    }
   ],
   "source": [
    "d = sin(2*b) / c\n",
    "\n",
    "print(d)"
   ]
  },
  {
   "cell_type": "markdown",
   "metadata": {},
   "source": [
    "2. Calcule el valor de e = a^b"
   ]
  },
  {
   "cell_type": "code",
   "execution_count": 14,
   "metadata": {},
   "outputs": [
    {
     "name": "stdout",
     "output_type": "stream",
     "text": [
      "16.0+/-3.2\n"
     ]
    }
   ],
   "source": [
    "e = a**b\n",
    "\n",
    "print(e)"
   ]
  },
  {
   "cell_type": "markdown",
   "metadata": {},
   "source": [
    "3. Calcule la incertidumbre de log10(a)"
   ]
  },
  {
   "cell_type": "code",
   "execution_count": 15,
   "metadata": {},
   "outputs": [
    {
     "name": "stdout",
     "output_type": "stream",
     "text": [
      "0.301+/-0.022\n"
     ]
    }
   ],
   "source": [
    "print(log10(a))"
   ]
  },
  {
   "cell_type": "markdown",
   "metadata": {},
   "source": [
    "4. Calcule la incertidumbre de e^(b) y guardela en la variable f"
   ]
  },
  {
   "cell_type": "code",
   "execution_count": 16,
   "metadata": {},
   "outputs": [
    {
     "name": "stdout",
     "output_type": "stream",
     "text": [
      "54.6+/-2.7\n"
     ]
    }
   ],
   "source": [
    "f = exp(b)\n",
    "print(f)"
   ]
  },
  {
   "cell_type": "markdown",
   "metadata": {},
   "source": [
    "5. Calcule la incertidumbre de a*ln(b) + c y guardela en la variable g"
   ]
  },
  {
   "cell_type": "code",
   "execution_count": 17,
   "metadata": {},
   "outputs": [
    {
     "name": "stdout",
     "output_type": "stream",
     "text": [
      "3.77+/-0.14\n"
     ]
    }
   ],
   "source": [
    "g = (a*log(b,exp(1))) + c\n",
    "\n",
    "print(g)"
   ]
  },
  {
   "cell_type": "markdown",
   "metadata": {},
   "source": [
    "6. Calcule la incertidumbre de sin(c*ln(a))/b  y guardela en la variable m"
   ]
  },
  {
   "cell_type": "code",
   "execution_count": 18,
   "metadata": {},
   "outputs": [
    {
     "name": "stdout",
     "output_type": "stream",
     "text": [
      "0.160+/-0.010\n"
     ]
    }
   ],
   "source": [
    "m = sin(c*log(a,exp(1))) / b\n",
    "print(m)"
   ]
  },
  {
   "cell_type": "markdown",
   "metadata": {},
   "source": [
    "Nota la diferencia sinó pones tu variable en la función print()"
   ]
  },
  {
   "cell_type": "code",
   "execution_count": 19,
   "metadata": {},
   "outputs": [
    {
     "data": {
      "text/plain": [
       "0.1597403190784087+/-0.009828759846408389"
      ]
     },
     "execution_count": 19,
     "metadata": {},
     "output_type": "execute_result"
    }
   ],
   "source": [
    "m # Sinó incluis el print() Python te va a tirar todos los decimales"
   ]
  },
  {
   "cell_type": "markdown",
   "metadata": {},
   "source": [
    "Listo, ya podes empezar a crear y realizar tus propios cálculos! <br>\n",
    "\n",
    "Como pudiste ver hay celdas __IN[]__ y celdas __Out[]__ <br>\n",
    "\n",
    "Las celdas input o __IN[]__ te permiten ingresar código, texto y demás! <br>\n",
    "Por su parte las celdas out, son el resultado de ejecutar CÓDIGO de celdas IN <br>"
   ]
  },
  {
   "attachments": {
    "z.PNG": {
     "image/png": "[encoded data removed]"
    }
   },
   "cell_type": "markdown",
   "metadata": {},
   "source": [
    "![z.PNG](attachment:z.PNG)"
   ]
  },
  {
   "cell_type": "markdown",
   "metadata": {},
   "source": [
    "Muchos éxitos!"
   ]
  },
  {
   "cell_type": "code",
   "execution_count": null,
   "metadata": {},
   "outputs": [],
   "source": []
  },
  {
   "cell_type": "code",
   "execution_count": null,
   "metadata": {},
   "outputs": [],
   "source": []
  }
 ],
 "metadata": {
  "celltoolbar": "Edit Metadata",
  "kernelspec": {
   "display_name": "Python 3",
   "language": "python",
   "name": "python3"
  },
  "language_info": {
   "codemirror_mode": {
    "name": "ipython",
    "version": 3
   },
   "file_extension": ".py",
   "mimetype": "text/x-python",
   "name": "python",
   "nbconvert_exporter": "python",
   "pygments_lexer": "ipython3",
   "version": "3.7.4"
  }
 },
 "nbformat": 4,
 "nbformat_minor": 2
}
